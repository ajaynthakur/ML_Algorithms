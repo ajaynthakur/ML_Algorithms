{
  "nbformat": 4,
  "nbformat_minor": 0,
  "metadata": {
    "colab": {
      "name": "Tokenizer.ipynb",
      "provenance": [],
      "collapsed_sections": [],
      "authorship_tag": "ABX9TyOoG5/VFOPuiHW4Moal2r2d",
      "include_colab_link": true
    },
    "kernelspec": {
      "name": "python3",
      "display_name": "Python 3"
    },
    "language_info": {
      "name": "python"
    }
  },
  "cells": [
    {
      "cell_type": "markdown",
      "metadata": {
        "id": "view-in-github",
        "colab_type": "text"
      },
      "source": [
        "<a href=\"https://colab.research.google.com/github/ajaynthakur/ML_Algorithms/blob/master/Tokenizer.ipynb\" target=\"_parent\"><img src=\"https://colab.research.google.com/assets/colab-badge.svg\" alt=\"Open In Colab\"/></a>"
      ]
    },
    {
      "cell_type": "code",
      "metadata": {
        "id": "MCQWtIhF9Gd1"
      },
      "source": [
        "import tensorflow as tf\n",
        "from tensorflow import keras\n",
        "\n",
        "from tensorflow.keras.preprocessing.text import Tokenizer\n",
        "from tensorflow.keras.preprocessing.sequence import pad_sequences\n"
      ],
      "execution_count": 17,
      "outputs": []
    },
    {
      "cell_type": "code",
      "metadata": {
        "id": "vBpdD-Ul9qYU"
      },
      "source": [
        "sentences = [\n",
        "            'I love India',\n",
        "            'I love marathi langauage',\n",
        "            'you love my marathi',\n",
        "            'Do you think my langauge is best?'\n",
        "]"
      ],
      "execution_count": 14,
      "outputs": []
    },
    {
      "cell_type": "code",
      "metadata": {
        "colab": {
          "base_uri": "https://localhost:8080/"
        },
        "id": "Zu5Srz6b-ATo",
        "outputId": "7beb55f2-cf8b-4aff-d449-d15a7daa9705"
      },
      "source": [
        "tokenizer = Tokenizer(num_words = 100, oov_token=\"<OOV>\")\n",
        "tokenizer.fit_on_texts(sentences)\n",
        "word_index = tokenizer.word_index\n",
        "\n",
        "\n",
        "sequences = tokenizer.texts_to_sequences(sentences)\n",
        "\n",
        "padded = pad_sequences(sequences,maxlen=5)\n",
        "print(\"\\nwords\",word_index)\n",
        "print(\"\\n sequences\", sequences)\n",
        "print(\"\\nsentences\",sentences)\n",
        "print(padded)"
      ],
      "execution_count": 22,
      "outputs": [
        {
          "output_type": "stream",
          "text": [
            "\n",
            "words {'<OOV>': 1, 'love': 2, 'i': 3, 'marathi': 4, 'you': 5, 'my': 6, 'india': 7, 'langauage': 8, 'do': 9, 'think': 10, 'langauge': 11, 'is': 12, 'best': 13}\n",
            "\n",
            " sequences [[3, 2, 7], [3, 2, 4, 8], [5, 2, 6, 4], [9, 5, 10, 6, 11, 12, 13]]\n",
            "\n",
            "sentences ['I love India', 'I love marathi langauage', 'you love my marathi', 'Do you think my langauge is best?']\n",
            "[[ 0  0  3  2  7]\n",
            " [ 0  3  2  4  8]\n",
            " [ 0  5  2  6  4]\n",
            " [10  6 11 12 13]]\n"
          ],
          "name": "stdout"
        }
      ]
    },
    {
      "cell_type": "code",
      "metadata": {
        "colab": {
          "base_uri": "https://localhost:8080/"
        },
        "id": "Sr7h47sl_VHr",
        "outputId": "4ea60d72-e5b3-4703-fc0d-92e20e12d242"
      },
      "source": [
        "# Try with words that the tokenizer wasn't fit to\n",
        "test_data = [\n",
        "    'i really love my dog',\n",
        "    'my dog loves my manatee'\n",
        "]\n",
        "\n",
        "test_seq = tokenizer.texts_to_sequences(test_data)\n",
        "print(\"\\nTest Sequence = \", test_seq)\n",
        "\n",
        "padded = pad_sequences(test_seq, maxlen=10)\n",
        "print(\"\\nPadded Test Sequence: \")\n",
        "print(padded)"
      ],
      "execution_count": 23,
      "outputs": [
        {
          "output_type": "stream",
          "text": [
            "\n",
            "Test Sequence =  [[3, 1, 2, 6, 1], [6, 1, 1, 6, 1]]\n",
            "\n",
            "Padded Test Sequence: \n",
            "[[0 0 0 0 0 3 1 2 6 1]\n",
            " [0 0 0 0 0 6 1 1 6 1]]\n"
          ],
          "name": "stdout"
        }
      ]
    }
  ]
}